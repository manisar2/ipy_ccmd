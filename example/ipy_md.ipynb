{
 "cells": [
  {
   "cell_type": "code",
   "execution_count": 2,
   "source": [
    "import numpy as np\r\n",
    "from ipy_ccmd import DisplayType\r\n",
    "\r\n",
    "r = 5\r\n",
    "h = 20\r\n",
    "volume = np.pi * r**2 * h\r\n",
    "\"\"\"Thus we have calculated the **volume** of the *cylinder* by using the formula\r\n",
    "$$ V = \\pi r^2 h $$\r\n",
    "\r\n",
    "Read on...\"\"\".md()\r\n",
    "\"Now we'll calculate the area as per $A = \\pi r^2 + 2 \\pi r h$.\".md()\r\n",
    "A = np.pi * r**2 + 2 * np.pi * r * h\r\n",
    "\"<h2>Volume of a cone is given by:</h2>\".md(DisplayType.HTML)\r\n",
    "\"V = {1 \\over 3} \\pi r^2 h\".md(DisplayType.MATH)\r\n",
    "f\"New array = \\n{np.array_str(np.array([[1, 2],[3, 4]]))}\".md(DisplayType.PRETTY)\r\n",
    "\r\n"
   ],
   "outputs": [
    {
     "output_type": "display_data",
     "data": {
      "text/plain": [
       "<IPython.core.display.Markdown object>"
      ],
      "text/markdown": [
       "Thus we have calculated the **volume** of the *cylinder* by using the formula\n",
       "$$ V = \\pi r^2 h $$\n",
       "\n",
       "Read on..."
      ]
     },
     "metadata": {}
    },
    {
     "output_type": "display_data",
     "data": {
      "text/plain": [
       "<IPython.core.display.Markdown object>"
      ],
      "text/markdown": [
       "Now we'll calculate the area as per $A = \\pi r^2 + 2 \\pi r h$."
      ]
     },
     "metadata": {}
    },
    {
     "output_type": "display_data",
     "data": {
      "text/plain": [
       "<IPython.core.display.HTML object>"
      ],
      "text/html": [
       "<h2>Volume of a cone is given by:</h2>"
      ]
     },
     "metadata": {}
    },
    {
     "output_type": "display_data",
     "data": {
      "text/plain": [
       "<IPython.core.display.Math object>"
      ],
      "text/latex": [
       "$\\displaystyle V = {1 \\over 3} \\pi r^2 h$"
      ]
     },
     "metadata": {}
    },
    {
     "output_type": "display_data",
     "data": {
      "text/plain": [
       "New array = \n",
       "[[1 2]\n",
       " [3 4]]"
      ]
     },
     "metadata": {}
    }
   ],
   "metadata": {}
  }
 ],
 "metadata": {
  "kernelspec": {
   "display_name": "Python 3",
   "language": "python",
   "name": "python3"
  },
  "language_info": {
   "codemirror_mode": {
    "name": "ipython",
    "version": 3
   },
   "file_extension": ".py",
   "mimetype": "text/x-python",
   "name": "python",
   "nbconvert_exporter": "python",
   "pygments_lexer": "ipython3",
   "version": "3.6.5"
  }
 },
 "nbformat": 4,
 "nbformat_minor": 2
}